{
 "cells": [
  {
   "cell_type": "code",
   "execution_count": 1,
   "metadata": {},
   "outputs": [],
   "source": [
    "import pandas as pd\n",
    "import numpy as np\n",
    "import seaborn as sns\n",
    "import matplotlib.pyplot as plt\n",
    "from sklearn import preprocessing\n",
    "from sklearn import cluster,metrics\n",
    "import datetime\n",
    "from sklearn.preprocessing import StandardScaler,MinMaxScaler\n",
    "from sklearn import decomposition\n",
    "from sklearn.metrics import adjusted_rand_score"
   ]
  },
  {
   "cell_type": "code",
   "execution_count": 2,
   "metadata": {},
   "outputs": [],
   "source": [
    "def preprocessor(Data):\n",
    "    scaler = StandardScaler()\n",
    "    model = scaler.fit_transform(Data)\n",
    "    scaled = pd.DataFrame(model, index = Data.index, columns = Data.columns)\n",
    "    #all_components = len(X_scaled.columns)\n",
    "    #X_scaled.head()\n",
    "    return scaled"
   ]
  },
  {
   "cell_type": "markdown",
   "metadata": {},
   "source": [
    "#  La stabilité des clusters :"
   ]
  },
  {
   "cell_type": "code",
   "execution_count": 3,
   "metadata": {},
   "outputs": [
    {
     "data": {
      "text/html": [
       "<div>\n",
       "<style scoped>\n",
       "    .dataframe tbody tr th:only-of-type {\n",
       "        vertical-align: middle;\n",
       "    }\n",
       "\n",
       "    .dataframe tbody tr th {\n",
       "        vertical-align: top;\n",
       "    }\n",
       "\n",
       "    .dataframe thead th {\n",
       "        text-align: right;\n",
       "    }\n",
       "</style>\n",
       "<table border=\"1\" class=\"dataframe\">\n",
       "  <thead>\n",
       "    <tr style=\"text-align: right;\">\n",
       "      <th></th>\n",
       "      <th>Unnamed: 0</th>\n",
       "      <th>customer_unique_id</th>\n",
       "      <th>Recency</th>\n",
       "      <th>Frequency</th>\n",
       "      <th>Monteray</th>\n",
       "      <th>order_id</th>\n",
       "      <th>customer_id</th>\n",
       "      <th>order_status</th>\n",
       "      <th>order_purchase_timestamp</th>\n",
       "      <th>order_approved_at</th>\n",
       "      <th>...</th>\n",
       "      <th>geolocation_state</th>\n",
       "      <th>total_weight</th>\n",
       "      <th>total_volume</th>\n",
       "      <th>numbre_of_payment</th>\n",
       "      <th>installment_total</th>\n",
       "      <th>review_id</th>\n",
       "      <th>review_score</th>\n",
       "      <th>review_title</th>\n",
       "      <th>review_message</th>\n",
       "      <th>review_answer_timestamp</th>\n",
       "    </tr>\n",
       "  </thead>\n",
       "  <tbody>\n",
       "    <tr>\n",
       "      <th>0</th>\n",
       "      <td>0</td>\n",
       "      <td>0000366f3b9a7992bf8c76cfdf3221e2</td>\n",
       "      <td>160</td>\n",
       "      <td>1</td>\n",
       "      <td>141.90</td>\n",
       "      <td>e22acc9c116caa3f2b7121bbb380d08e</td>\n",
       "      <td>fadbb3709178fc513abc1b2670aa1ad2</td>\n",
       "      <td>delivered</td>\n",
       "      <td>2018-05-10 10:56:27</td>\n",
       "      <td>2018-05-10 11:11:18</td>\n",
       "      <td>...</td>\n",
       "      <td>SP</td>\n",
       "      <td>1500.0</td>\n",
       "      <td>7616.0</td>\n",
       "      <td>1.0</td>\n",
       "      <td>8.0</td>\n",
       "      <td>1.0</td>\n",
       "      <td>5.0</td>\n",
       "      <td>True</td>\n",
       "      <td>True</td>\n",
       "      <td>2018-05-21 13:44:48.000</td>\n",
       "    </tr>\n",
       "    <tr>\n",
       "      <th>1</th>\n",
       "      <td>1</td>\n",
       "      <td>0000b849f77a49e4a4ce2b2a4ca5be3f</td>\n",
       "      <td>163</td>\n",
       "      <td>1</td>\n",
       "      <td>27.19</td>\n",
       "      <td>3594e05a005ac4d06a72673270ef9ec9</td>\n",
       "      <td>4cb282e167ae9234755102258dd52ee8</td>\n",
       "      <td>delivered</td>\n",
       "      <td>2018-05-07 11:11:27</td>\n",
       "      <td>2018-05-07 18:25:44</td>\n",
       "      <td>...</td>\n",
       "      <td>SP</td>\n",
       "      <td>375.0</td>\n",
       "      <td>5148.0</td>\n",
       "      <td>1.0</td>\n",
       "      <td>1.0</td>\n",
       "      <td>1.0</td>\n",
       "      <td>4.0</td>\n",
       "      <td>False</td>\n",
       "      <td>False</td>\n",
       "      <td>2018-05-11 22:29:25.000</td>\n",
       "    </tr>\n",
       "    <tr>\n",
       "      <th>2</th>\n",
       "      <td>2</td>\n",
       "      <td>0000f46a3911fa3c0805444483337064</td>\n",
       "      <td>585</td>\n",
       "      <td>1</td>\n",
       "      <td>86.22</td>\n",
       "      <td>b33ec3b699337181488304f362a6b734</td>\n",
       "      <td>9b3932a6253894a02c1df9d19004239f</td>\n",
       "      <td>delivered</td>\n",
       "      <td>2017-03-10 21:05:03</td>\n",
       "      <td>2017-03-10 21:05:03</td>\n",
       "      <td>...</td>\n",
       "      <td>SC</td>\n",
       "      <td>1500.0</td>\n",
       "      <td>43750.0</td>\n",
       "      <td>1.0</td>\n",
       "      <td>8.0</td>\n",
       "      <td>1.0</td>\n",
       "      <td>3.0</td>\n",
       "      <td>False</td>\n",
       "      <td>False</td>\n",
       "      <td>2017-04-07 01:19:44.000</td>\n",
       "    </tr>\n",
       "    <tr>\n",
       "      <th>3</th>\n",
       "      <td>3</td>\n",
       "      <td>0000f6ccb0745a6a4b88665a16c9f078</td>\n",
       "      <td>369</td>\n",
       "      <td>1</td>\n",
       "      <td>43.62</td>\n",
       "      <td>41272756ecddd9a9ed0180413cc22fb6</td>\n",
       "      <td>914991f0c02ef0843c0e7010c819d642</td>\n",
       "      <td>delivered</td>\n",
       "      <td>2017-10-12 20:29:41</td>\n",
       "      <td>2017-10-12 20:49:17</td>\n",
       "      <td>...</td>\n",
       "      <td>PA</td>\n",
       "      <td>150.0</td>\n",
       "      <td>1045.0</td>\n",
       "      <td>1.0</td>\n",
       "      <td>4.0</td>\n",
       "      <td>1.0</td>\n",
       "      <td>4.0</td>\n",
       "      <td>False</td>\n",
       "      <td>True</td>\n",
       "      <td>2017-11-03 00:17:51.000</td>\n",
       "    </tr>\n",
       "    <tr>\n",
       "      <th>4</th>\n",
       "      <td>4</td>\n",
       "      <td>0004aac84e0df4da2b147fca70cf8255</td>\n",
       "      <td>336</td>\n",
       "      <td>1</td>\n",
       "      <td>196.89</td>\n",
       "      <td>d957021f1127559cd947b62533f484f7</td>\n",
       "      <td>47227568b10f5f58a524a75507e6992c</td>\n",
       "      <td>delivered</td>\n",
       "      <td>2017-11-14 19:45:42</td>\n",
       "      <td>2017-11-14 20:06:52</td>\n",
       "      <td>...</td>\n",
       "      <td>SP</td>\n",
       "      <td>6050.0</td>\n",
       "      <td>528.0</td>\n",
       "      <td>1.0</td>\n",
       "      <td>6.0</td>\n",
       "      <td>1.0</td>\n",
       "      <td>5.0</td>\n",
       "      <td>False</td>\n",
       "      <td>False</td>\n",
       "      <td>2017-12-02 22:29:35.000</td>\n",
       "    </tr>\n",
       "  </tbody>\n",
       "</table>\n",
       "<p>5 rows × 38 columns</p>\n",
       "</div>"
      ],
      "text/plain": [
       "   Unnamed: 0                customer_unique_id  Recency  Frequency  Monteray  \\\n",
       "0           0  0000366f3b9a7992bf8c76cfdf3221e2      160          1    141.90   \n",
       "1           1  0000b849f77a49e4a4ce2b2a4ca5be3f      163          1     27.19   \n",
       "2           2  0000f46a3911fa3c0805444483337064      585          1     86.22   \n",
       "3           3  0000f6ccb0745a6a4b88665a16c9f078      369          1     43.62   \n",
       "4           4  0004aac84e0df4da2b147fca70cf8255      336          1    196.89   \n",
       "\n",
       "                           order_id                       customer_id  \\\n",
       "0  e22acc9c116caa3f2b7121bbb380d08e  fadbb3709178fc513abc1b2670aa1ad2   \n",
       "1  3594e05a005ac4d06a72673270ef9ec9  4cb282e167ae9234755102258dd52ee8   \n",
       "2  b33ec3b699337181488304f362a6b734  9b3932a6253894a02c1df9d19004239f   \n",
       "3  41272756ecddd9a9ed0180413cc22fb6  914991f0c02ef0843c0e7010c819d642   \n",
       "4  d957021f1127559cd947b62533f484f7  47227568b10f5f58a524a75507e6992c   \n",
       "\n",
       "  order_status order_purchase_timestamp    order_approved_at  ...  \\\n",
       "0    delivered      2018-05-10 10:56:27  2018-05-10 11:11:18  ...   \n",
       "1    delivered      2018-05-07 11:11:27  2018-05-07 18:25:44  ...   \n",
       "2    delivered      2017-03-10 21:05:03  2017-03-10 21:05:03  ...   \n",
       "3    delivered      2017-10-12 20:29:41  2017-10-12 20:49:17  ...   \n",
       "4    delivered      2017-11-14 19:45:42  2017-11-14 20:06:52  ...   \n",
       "\n",
       "  geolocation_state total_weight total_volume  numbre_of_payment  \\\n",
       "0                SP       1500.0       7616.0                1.0   \n",
       "1                SP        375.0       5148.0                1.0   \n",
       "2                SC       1500.0      43750.0                1.0   \n",
       "3                PA        150.0       1045.0                1.0   \n",
       "4                SP       6050.0        528.0                1.0   \n",
       "\n",
       "  installment_total review_id  review_score  review_title  review_message  \\\n",
       "0               8.0       1.0           5.0          True            True   \n",
       "1               1.0       1.0           4.0         False           False   \n",
       "2               8.0       1.0           3.0         False           False   \n",
       "3               4.0       1.0           4.0         False            True   \n",
       "4               6.0       1.0           5.0         False           False   \n",
       "\n",
       "   review_answer_timestamp  \n",
       "0  2018-05-21 13:44:48.000  \n",
       "1  2018-05-11 22:29:25.000  \n",
       "2  2017-04-07 01:19:44.000  \n",
       "3  2017-11-03 00:17:51.000  \n",
       "4  2017-12-02 22:29:35.000  \n",
       "\n",
       "[5 rows x 38 columns]"
      ]
     },
     "execution_count": 3,
     "metadata": {},
     "output_type": "execute_result"
    }
   ],
   "source": [
    "customers_data = pd.read_csv('df_final.csv', encoding=\"ISO-8859-1\")\n",
    "customers_data.head()"
   ]
  },
  {
   "cell_type": "code",
   "execution_count": 4,
   "metadata": {},
   "outputs": [],
   "source": [
    "customers_data.drop(columns=\"Unnamed: 0\",axis = 1,inplace =True)\n"
   ]
  },
  {
   "cell_type": "code",
   "execution_count": 5,
   "metadata": {},
   "outputs": [
    {
     "name": "stdout",
     "output_type": "stream",
     "text": [
      "<class 'pandas.core.frame.DataFrame'>\n",
      "RangeIndex: 99441 entries, 0 to 99440\n",
      "Data columns (total 37 columns):\n",
      " #   Column                         Non-Null Count  Dtype  \n",
      "---  ------                         --------------  -----  \n",
      " 0   customer_unique_id             99441 non-null  object \n",
      " 1   Recency                        99441 non-null  int64  \n",
      " 2   Frequency                      99441 non-null  int64  \n",
      " 3   Monteray                       99441 non-null  float64\n",
      " 4   order_id                       99441 non-null  object \n",
      " 5   customer_id                    99441 non-null  object \n",
      " 6   order_status                   99441 non-null  object \n",
      " 7   order_purchase_timestamp       99441 non-null  object \n",
      " 8   order_approved_at              99281 non-null  object \n",
      " 9   order_delivered_carrier_date   97658 non-null  object \n",
      " 10  order_delivered_customer_date  96476 non-null  object \n",
      " 11  order_estimated_delivery_date  99441 non-null  object \n",
      " 12  customer_zip_code_prefix       99441 non-null  int64  \n",
      " 13  customer_city                  99441 non-null  object \n",
      " 14  customer_state                 99441 non-null  object \n",
      " 15  delivry_time                   99441 non-null  float64\n",
      " 16  delivery_delay                 99441 non-null  float64\n",
      " 17  delivered                      99441 non-null  int64  \n",
      " 18  order_item_count               99441 non-null  float64\n",
      " 19  order_price                    98666 non-null  float64\n",
      " 20  order_freight                  99441 non-null  float64\n",
      " 21  total_price                    99441 non-null  float64\n",
      " 22  freight_ratio                  99441 non-null  float64\n",
      " 23  geolocation_zip_code_prefix    99163 non-null  float64\n",
      " 24  geolocation_lat                99441 non-null  float64\n",
      " 25  geolocation_lng                99441 non-null  float64\n",
      " 26  geolocation_city               99163 non-null  object \n",
      " 27  geolocation_state              99163 non-null  object \n",
      " 28  total_weight                   99441 non-null  float64\n",
      " 29  total_volume                   99441 non-null  float64\n",
      " 30  numbre_of_payment              99441 non-null  float64\n",
      " 31  installment_total              99440 non-null  float64\n",
      " 32  review_id                      99441 non-null  float64\n",
      " 33  review_score                   99441 non-null  float64\n",
      " 34  review_title                   99441 non-null  bool   \n",
      " 35  review_message                 99441 non-null  bool   \n",
      " 36  review_answer_timestamp        98673 non-null  object \n",
      "dtypes: bool(2), float64(17), int64(4), object(14)\n",
      "memory usage: 26.7+ MB\n"
     ]
    }
   ],
   "source": [
    "customers_data.info()"
   ]
  },
  {
   "cell_type": "markdown",
   "metadata": {},
   "source": [
    "### Sélection de features pour notre analyse:"
   ]
  },
  {
   "cell_type": "code",
   "execution_count": 6,
   "metadata": {},
   "outputs": [
    {
     "name": "stdout",
     "output_type": "stream",
     "text": [
      "<class 'pandas.core.frame.DataFrame'>\n",
      "RangeIndex: 99441 entries, 0 to 99440\n",
      "Data columns (total 5 columns):\n",
      " #   Column                    Non-Null Count  Dtype  \n",
      "---  ------                    --------------  -----  \n",
      " 0   Recency                   99441 non-null  int64  \n",
      " 1   Frequency                 99441 non-null  int64  \n",
      " 2   Monteray                  99441 non-null  float64\n",
      " 3   review_score              99441 non-null  float64\n",
      " 4   order_purchase_timestamp  99441 non-null  object \n",
      "dtypes: float64(2), int64(2), object(1)\n",
      "memory usage: 3.8+ MB\n"
     ]
    }
   ],
   "source": [
    "customer_df = customers_data[['Recency','Frequency','Monteray','review_score','order_purchase_timestamp']]\n",
    "customer_df.info()"
   ]
  },
  {
   "cell_type": "code",
   "execution_count": 7,
   "metadata": {},
   "outputs": [
    {
     "name": "stderr",
     "output_type": "stream",
     "text": [
      "C:\\Users\\Lynda\\AppData\\Local\\Temp\\ipykernel_17988\\2919941358.py:1: SettingWithCopyWarning: \n",
      "A value is trying to be set on a copy of a slice from a DataFrame.\n",
      "Try using .loc[row_indexer,col_indexer] = value instead\n",
      "\n",
      "See the caveats in the documentation: https://pandas.pydata.org/pandas-docs/stable/user_guide/indexing.html#returning-a-view-versus-a-copy\n",
      "  customer_df['order_purchase_timestamp'] = pd.to_datetime(customer_df['order_purchase_timestamp'])\n"
     ]
    }
   ],
   "source": [
    "customer_df['order_purchase_timestamp'] = pd.to_datetime(customer_df['order_purchase_timestamp'])"
   ]
  },
  {
   "cell_type": "code",
   "execution_count": 8,
   "metadata": {},
   "outputs": [
    {
     "name": "stdout",
     "output_type": "stream",
     "text": [
      "La premiere date d'achât:\t\t 2016-09-04 21:15:19\n",
      "La derniere date d'achât:\t\t 2018-10-17 17:30:18\n"
     ]
    }
   ],
   "source": [
    "print(\"La premiere date d'achât:\\t\\t\", customer_df['order_purchase_timestamp'].min())\n",
    "print(\"La derniere date d'achât:\\t\\t\", customer_df['order_purchase_timestamp'].max())"
   ]
  },
  {
   "cell_type": "markdown",
   "metadata": {},
   "source": [
    "#### Visualisation de order_purchase_timestamp:"
   ]
  },
  {
   "cell_type": "code",
   "execution_count": 9,
   "metadata": {},
   "outputs": [
    {
     "data": {
      "text/plain": [
       "<AxesSubplot:xlabel='order_purchase_timestamp', ylabel='Count'>"
      ]
     },
     "execution_count": 9,
     "metadata": {},
     "output_type": "execute_result"
    },
    {
     "data": {
      "image/png": "[encoded data removed]",
      "text/plain": [
       "<Figure size 720x360 with 1 Axes>"
      ]
     },
     "metadata": {
      "needs_background": "light"
     },
     "output_type": "display_data"
    }
   ],
   "source": [
    "plt.subplots(figsize=(10,5))\n",
    "sns.histplot(customer_df, x = 'order_purchase_timestamp',bins = 100)"
   ]
  },
  {
   "attachments": {},
   "cell_type": "markdown",
   "metadata": {},
   "source": [
    "#### Je crée un modèle de clustering sur les commandes les plus enciennes (04/09/2016 à 31/08/2017)"
   ]
  },
  {
   "cell_type": "code",
   "execution_count": 10,
   "metadata": {},
   "outputs": [],
   "source": [
    "start_date = datetime.datetime(2016,9,4)\n",
    "end_date = datetime.datetime(2017,8,31)"
   ]
  },
  {
   "cell_type": "code",
   "execution_count": 11,
   "metadata": {},
   "outputs": [
    {
     "name": "stdout",
     "output_type": "stream",
     "text": [
      "<class 'pandas.core.frame.DataFrame'>\n",
      "Int64Index: 23148 entries, 2 to 99440\n",
      "Data columns (total 5 columns):\n",
      " #   Column                    Non-Null Count  Dtype         \n",
      "---  ------                    --------------  -----         \n",
      " 0   Recency                   23148 non-null  int64         \n",
      " 1   Frequency                 23148 non-null  int64         \n",
      " 2   Monteray                  23148 non-null  float64       \n",
      " 3   review_score              23148 non-null  float64       \n",
      " 4   order_purchase_timestamp  23148 non-null  datetime64[ns]\n",
      "dtypes: datetime64[ns](1), float64(2), int64(2)\n",
      "memory usage: 1.1 MB\n"
     ]
    }
   ],
   "source": [
    "select = (customer_df['order_purchase_timestamp'] >= start_date) & (customer_df['order_purchase_timestamp'] <= end_date)\n",
    "df = customer_df[select]\n",
    "df.info()"
   ]
  },
  {
   "cell_type": "code",
   "execution_count": 12,
   "metadata": {},
   "outputs": [
    {
     "name": "stdout",
     "output_type": "stream",
     "text": [
      "Premier Date d'Achât:\t\t 2016-09-04 21:15:19\n",
      "Dernier Date d'Achât:\t\t 2017-08-30 23:51:01\n"
     ]
    }
   ],
   "source": [
    "# pour notre selection (11/2017 à 08/2018) on a:\n",
    "print(\"Premier Date d'Achât:\\t\\t\", df['order_purchase_timestamp'].min())\n",
    "print(\"Dernier Date d'Achât:\\t\\t\", df['order_purchase_timestamp'].max())"
   ]
  },
  {
   "cell_type": "markdown",
   "metadata": {},
   "source": [
    "* Je selectionne les colonnes pertinents pour notre analyse:"
   ]
  },
  {
   "cell_type": "code",
   "execution_count": 13,
   "metadata": {},
   "outputs": [
    {
     "data": {
      "text/plain": [
       "(23148, 4)"
      ]
     },
     "execution_count": 13,
     "metadata": {},
     "output_type": "execute_result"
    }
   ],
   "source": [
    "my_df = df[['Recency','Frequency','Monteray','review_score']]\n",
    "my_df.shape"
   ]
  },
  {
   "attachments": {},
   "cell_type": "markdown",
   "metadata": {},
   "source": [
    "#### Créer un modèle de kmeans sur les commande plus ancienne (les date choisie):\n",
    "\n"
   ]
  },
  {
   "cell_type": "code",
   "execution_count": 14,
   "metadata": {},
   "outputs": [
    {
     "data": {
      "text/html": [
       "<style>#sk-container-id-1 {color: black;background-color: white;}#sk-container-id-1 pre{padding: 0;}#sk-container-id-1 div.sk-toggleable {background-color: white;}#sk-container-id-1 label.sk-toggleable__label {cursor: pointer;display: block;width: 100%;margin-bottom: 0;padding: 0.3em;box-sizing: border-box;text-align: center;}#sk-container-id-1 label.sk-toggleable__label-arrow:before {content: \"▸\";float: left;margin-right: 0.25em;color: #696969;}#sk-container-id-1 label.sk-toggleable__label-arrow:hover:before {color: black;}#sk-container-id-1 div.sk-estimator:hover label.sk-toggleable__label-arrow:before {color: black;}#sk-container-id-1 div.sk-toggleable__content {max-height: 0;max-width: 0;overflow: hidden;text-align: left;background-color: #f0f8ff;}#sk-container-id-1 div.sk-toggleable__content pre {margin: 0.2em;color: black;border-radius: 0.25em;background-color: #f0f8ff;}#sk-container-id-1 input.sk-toggleable__control:checked~div.sk-toggleable__content {max-height: 200px;max-width: 100%;overflow: auto;}#sk-container-id-1 input.sk-toggleable__control:checked~label.sk-toggleable__label-arrow:before {content: \"▾\";}#sk-container-id-1 div.sk-estimator input.sk-toggleable__control:checked~label.sk-toggleable__label {background-color: #d4ebff;}#sk-container-id-1 div.sk-label input.sk-toggleable__control:checked~label.sk-toggleable__label {background-color: #d4ebff;}#sk-container-id-1 input.sk-hidden--visually {border: 0;clip: rect(1px 1px 1px 1px);clip: rect(1px, 1px, 1px, 1px);height: 1px;margin: -1px;overflow: hidden;padding: 0;position: absolute;width: 1px;}#sk-container-id-1 div.sk-estimator {font-family: monospace;background-color: #f0f8ff;border: 1px dotted black;border-radius: 0.25em;box-sizing: border-box;margin-bottom: 0.5em;}#sk-container-id-1 div.sk-estimator:hover {background-color: #d4ebff;}#sk-container-id-1 div.sk-parallel-item::after {content: \"\";width: 100%;border-bottom: 1px solid gray;flex-grow: 1;}#sk-container-id-1 div.sk-label:hover label.sk-toggleable__label {background-color: #d4ebff;}#sk-container-id-1 div.sk-serial::before {content: \"\";position: absolute;border-left: 1px solid gray;box-sizing: border-box;top: 0;bottom: 0;left: 50%;z-index: 0;}#sk-container-id-1 div.sk-serial {display: flex;flex-direction: column;align-items: center;background-color: white;padding-right: 0.2em;padding-left: 0.2em;position: relative;}#sk-container-id-1 div.sk-item {position: relative;z-index: 1;}#sk-container-id-1 div.sk-parallel {display: flex;align-items: stretch;justify-content: center;background-color: white;position: relative;}#sk-container-id-1 div.sk-item::before, #sk-container-id-1 div.sk-parallel-item::before {content: \"\";position: absolute;border-left: 1px solid gray;box-sizing: border-box;top: 0;bottom: 0;left: 50%;z-index: -1;}#sk-container-id-1 div.sk-parallel-item {display: flex;flex-direction: column;z-index: 1;position: relative;background-color: white;}#sk-container-id-1 div.sk-parallel-item:first-child::after {align-self: flex-end;width: 50%;}#sk-container-id-1 div.sk-parallel-item:last-child::after {align-self: flex-start;width: 50%;}#sk-container-id-1 div.sk-parallel-item:only-child::after {width: 0;}#sk-container-id-1 div.sk-dashed-wrapped {border: 1px dashed gray;margin: 0 0.4em 0.5em 0.4em;box-sizing: border-box;padding-bottom: 0.4em;background-color: white;}#sk-container-id-1 div.sk-label label {font-family: monospace;font-weight: bold;display: inline-block;line-height: 1.2em;}#sk-container-id-1 div.sk-label-container {text-align: center;}#sk-container-id-1 div.sk-container {/* jupyter's `normalize.less` sets `[hidden] { display: none; }` but bootstrap.min.css set `[hidden] { display: none !important; }` so we also need the `!important` here to be able to override the default hidden behavior on the sphinx rendered scikit-learn.org. See: https://github.com/scikit-learn/scikit-learn/issues/21755 */display: inline-block !important;position: relative;}#sk-container-id-1 div.sk-text-repr-fallback {display: none;}</style><div id=\"sk-container-id-1\" class=\"sk-top-container\"><div class=\"sk-text-repr-fallback\"><pre>KMeans(n_clusters=4)</pre><b>In a Jupyter environment, please rerun this cell to show the HTML representation or trust the notebook. <br />On GitHub, the HTML representation is unable to render, please try loading this page with nbviewer.org.</b></div><div class=\"sk-container\" hidden><div class=\"sk-item\"><div class=\"sk-estimator sk-toggleable\"><input class=\"sk-toggleable__control sk-hidden--visually\" id=\"sk-estimator-id-1\" type=\"checkbox\" checked><label for=\"sk-estimator-id-1\" class=\"sk-toggleable__label sk-toggleable__label-arrow\">KMeans</label><div class=\"sk-toggleable__content\"><pre>KMeans(n_clusters=4)</pre></div></div></div></div></div>"
      ],
      "text/plain": [
       "KMeans(n_clusters=4)"
      ]
     },
     "execution_count": 14,
     "metadata": {},
     "output_type": "execute_result"
    }
   ],
   "source": [
    "model = preprocessor(my_df)\n",
    "model_kmeans = cluster.KMeans(n_clusters = 4)\n",
    "model_kmeans.fit(model)"
   ]
  },
  {
   "attachments": {},
   "cell_type": "markdown",
   "metadata": {},
   "source": [
    "* faire la visualisation en 2D avec  ACP:"
   ]
  },
  {
   "cell_type": "code",
   "execution_count": 15,
   "metadata": {},
   "outputs": [
    {
     "name": "stdout",
     "output_type": "stream",
     "text": [
      "[0.34665387 0.60611519]\n"
     ]
    },
    {
     "data": {
      "text/plain": [
       "Text(0.5, 1.0, '4 clusters')"
      ]
     },
     "execution_count": 15,
     "metadata": {},
     "output_type": "execute_result"
    },
    {
     "data": {
      "image/png": "[encoded data removed]",
      "text/plain": [
       "<Figure size 1080x720 with 1 Axes>"
      ]
     },
     "metadata": {
      "needs_background": "light"
     },
     "output_type": "display_data"
    }
   ],
   "source": [
    "pca=decomposition.PCA(n_components=2)\n",
    "pca.fit(model)\n",
    "print(pca.explained_variance_ratio_.cumsum())\n",
    "X_model_trans=pca.transform(model)\n",
    "fig=plt.figure(figsize=(15,10))\n",
    "\n",
    "cls_model=cluster.KMeans(n_clusters=4)\n",
    "cls_model.fit(model)\n",
    "ax=fig.add_subplot(111)\n",
    "ax.scatter(X_model_trans[:,0],X_model_trans[:,1],c=cls_model.labels_)\n",
    "ax.set_title(\"4 clusters\")"
   ]
  },
  {
   "attachments": {},
   "cell_type": "markdown",
   "metadata": {},
   "source": [
    "##### Maintenant que notre modèle de clustering KMeans est créé à partir des 12 premiers mois, nous allons prédire le clustering chaque mois suivant et créer un nouveau modèle chaque mois, (le suivant et le précidents) pour pouvoir comparer les deux avec notre score ARI"
   ]
  },
  {
   "cell_type": "code",
   "execution_count": 16,
   "metadata": {},
   "outputs": [],
   "source": [
    "# data de réference\n",
    "start_date = (2017,8,31)\n",
    "end_date =  (2018,10,17) "
   ]
  },
  {
   "cell_type": "code",
   "execution_count": 17,
   "metadata": {},
   "outputs": [
    {
     "data": {
      "text/plain": [
       "(76144, 5)"
      ]
     },
     "execution_count": 17,
     "metadata": {},
     "output_type": "execute_result"
    }
   ],
   "source": [
    "\n",
    "table_test=customer_df[customer_df[\"order_purchase_timestamp\"]>\"2017-08-31 23:59:59\"]\n",
    "table_test.shape"
   ]
  },
  {
   "cell_type": "code",
   "execution_count": 18,
   "metadata": {},
   "outputs": [
    {
     "name": "stderr",
     "output_type": "stream",
     "text": [
      "C:\\Users\\Lynda\\AppData\\Local\\Temp\\ipykernel_17988\\2581036256.py:1: SettingWithCopyWarning: \n",
      "A value is trying to be set on a copy of a slice from a DataFrame.\n",
      "Try using .loc[row_indexer,col_indexer] = value instead\n",
      "\n",
      "See the caveats in the documentation: https://pandas.pydata.org/pandas-docs/stable/user_guide/indexing.html#returning-a-view-versus-a-copy\n",
      "  table_test[\"annee_mois\"]=table_test[\"order_purchase_timestamp\"].dt.strftime('%Y%m')\n"
     ]
    },
    {
     "data": {
      "text/html": [
       "<div>\n",
       "<style scoped>\n",
       "    .dataframe tbody tr th:only-of-type {\n",
       "        vertical-align: middle;\n",
       "    }\n",
       "\n",
       "    .dataframe tbody tr th {\n",
       "        vertical-align: top;\n",
       "    }\n",
       "\n",
       "    .dataframe thead th {\n",
       "        text-align: right;\n",
       "    }\n",
       "</style>\n",
       "<table border=\"1\" class=\"dataframe\">\n",
       "  <thead>\n",
       "    <tr style=\"text-align: right;\">\n",
       "      <th></th>\n",
       "      <th>Recency</th>\n",
       "      <th>Frequency</th>\n",
       "      <th>Monteray</th>\n",
       "      <th>review_score</th>\n",
       "      <th>order_purchase_timestamp</th>\n",
       "      <th>annee_mois</th>\n",
       "    </tr>\n",
       "  </thead>\n",
       "  <tbody>\n",
       "    <tr>\n",
       "      <th>0</th>\n",
       "      <td>160</td>\n",
       "      <td>1</td>\n",
       "      <td>141.90</td>\n",
       "      <td>5.0</td>\n",
       "      <td>2018-05-10 10:56:27</td>\n",
       "      <td>201805</td>\n",
       "    </tr>\n",
       "    <tr>\n",
       "      <th>1</th>\n",
       "      <td>163</td>\n",
       "      <td>1</td>\n",
       "      <td>27.19</td>\n",
       "      <td>4.0</td>\n",
       "      <td>2018-05-07 11:11:27</td>\n",
       "      <td>201805</td>\n",
       "    </tr>\n",
       "    <tr>\n",
       "      <th>3</th>\n",
       "      <td>369</td>\n",
       "      <td>1</td>\n",
       "      <td>43.62</td>\n",
       "      <td>4.0</td>\n",
       "      <td>2017-10-12 20:29:41</td>\n",
       "      <td>201710</td>\n",
       "    </tr>\n",
       "    <tr>\n",
       "      <th>4</th>\n",
       "      <td>336</td>\n",
       "      <td>1</td>\n",
       "      <td>196.89</td>\n",
       "      <td>5.0</td>\n",
       "      <td>2017-11-14 19:45:42</td>\n",
       "      <td>201711</td>\n",
       "    </tr>\n",
       "    <tr>\n",
       "      <th>5</th>\n",
       "      <td>194</td>\n",
       "      <td>1</td>\n",
       "      <td>166.98</td>\n",
       "      <td>4.0</td>\n",
       "      <td>2018-04-05 19:33:16</td>\n",
       "      <td>201804</td>\n",
       "    </tr>\n",
       "  </tbody>\n",
       "</table>\n",
       "</div>"
      ],
      "text/plain": [
       "   Recency  Frequency  Monteray  review_score order_purchase_timestamp  \\\n",
       "0      160          1    141.90           5.0      2018-05-10 10:56:27   \n",
       "1      163          1     27.19           4.0      2018-05-07 11:11:27   \n",
       "3      369          1     43.62           4.0      2017-10-12 20:29:41   \n",
       "4      336          1    196.89           5.0      2017-11-14 19:45:42   \n",
       "5      194          1    166.98           4.0      2018-04-05 19:33:16   \n",
       "\n",
       "  annee_mois  \n",
       "0     201805  \n",
       "1     201805  \n",
       "3     201710  \n",
       "4     201711  \n",
       "5     201804  "
      ]
     },
     "execution_count": 18,
     "metadata": {},
     "output_type": "execute_result"
    }
   ],
   "source": [
    "table_test[\"annee_mois\"]=table_test[\"order_purchase_timestamp\"].dt.strftime('%Y%m')\n",
    "table_test.head()"
   ]
  },
  {
   "cell_type": "code",
   "execution_count": 19,
   "metadata": {},
   "outputs": [
    {
     "name": "stdout",
     "output_type": "stream",
     "text": [
      "<class 'pandas.core.frame.DataFrame'>\n",
      "Int64Index: 76144 entries, 0 to 99439\n",
      "Data columns (total 6 columns):\n",
      " #   Column                    Non-Null Count  Dtype         \n",
      "---  ------                    --------------  -----         \n",
      " 0   Recency                   76144 non-null  int64         \n",
      " 1   Frequency                 76144 non-null  int64         \n",
      " 2   Monteray                  76144 non-null  float64       \n",
      " 3   review_score              76144 non-null  float64       \n",
      " 4   order_purchase_timestamp  76144 non-null  datetime64[ns]\n",
      " 5   annee_mois                76144 non-null  object        \n",
      "dtypes: datetime64[ns](1), float64(2), int64(2), object(1)\n",
      "memory usage: 4.1+ MB\n"
     ]
    }
   ],
   "source": [
    "table_test.info()"
   ]
  },
  {
   "attachments": {},
   "cell_type": "markdown",
   "metadata": {},
   "source": [
    "#### Etude de la stabilité(comparaison et prediction):"
   ]
  },
  {
   "cell_type": "code",
   "execution_count": 20,
   "metadata": {},
   "outputs": [
    {
     "name": "stdout",
     "output_type": "stream",
     "text": [
      "[0.8073891889283631, 0.8723754492952837, 0.8766212318182613, 0.8970385705254847, 0.4347961620035352, 0.4081641900788432, 0.40651859772211457, 0.40363674624755963, 0.40008003307224177, 0.403089934798236, 0.4037005642617638, 0.3988318958872733, 0.39900778762888967, 0.3989841175508125]\n"
     ]
    }
   ],
   "source": [
    "annee_mois=[\"201709\",\"201710\",\"201711\",\"201712\",\n",
    "  \n",
    "       \"201801\",\"201802\",\"201803\",\"201804\",\"201805\",\"201806\",\"201807\",\"201808\",\"201809\",\"201810\"]\n",
    "score_ARI=[]\n",
    "\n",
    "for i in annee_mois:\n",
    "\n",
    "    model=table_test.loc[(table_test[\"annee_mois\"] <= i)]\n",
    "\n",
    "    df= model[[\"Recency\",\"Frequency\",\"Monteray\",\"review_score\"]]\n",
    "\n",
    "    if df.shape != (0,4):\n",
    "        df_norm= preprocessor(df)\n",
    "        cls_test=cluster.KMeans(n_clusters=4)\n",
    "        cls_test.fit(df_norm)\n",
    "\n",
    "        score=adjusted_rand_score(cls_test.labels_,cls_model.predict(df_norm))\n",
    "\n",
    "\n",
    "        score_ARI.append(score)\n",
    "print(score_ARI)"
   ]
  },
  {
   "cell_type": "code",
   "execution_count": 112,
   "metadata": {},
   "outputs": [
    {
     "name": "stdout",
     "output_type": "stream",
     "text": [
      "(4285, 6)\n",
      "(8916, 6)\n",
      "(16460, 6)\n",
      "(22133, 6)\n",
      "(29402, 6)\n",
      "(36130, 6)\n",
      "(43341, 6)\n",
      "(50280, 6)\n",
      "(57153, 6)\n",
      "(63320, 6)\n",
      "(69612, 6)\n",
      "(76124, 6)\n",
      "(76140, 6)\n",
      "(76144, 6)\n"
     ]
    }
   ],
   "source": [
    "# annee_mois=[\"201709\",\"201710\",\"201711\",\"201712\",\n",
    "#        \"201801\",\"201802\",\"201803\",\"201804\",\"201805\",\"201806\",\"201807\",\"201808\",\"201809\",\"201810\"]\n",
    "# score_ARI=[]\n",
    "\n",
    "# for i in annee_mois:\n",
    "\n",
    "#     model=table_test.loc[(table_test[\"annee_mois\"] <= i)]\n",
    "#     print(model.shape)"
   ]
  },
  {
   "cell_type": "code",
   "execution_count": 21,
   "metadata": {},
   "outputs": [
    {
     "data": {
      "image/png": "[encoded data removed]",
      "text/plain": [
       "<Figure size 720x432 with 1 Axes>"
      ]
     },
     "metadata": {
      "needs_background": "light"
     },
     "output_type": "display_data"
    }
   ],
   "source": [
    "plt.figure(figsize=(10,6))\n",
    "plt.plot(score_ARI, marker = 'o')\n",
    "plt.title('Stabilité temporelle de la segmentation par KMeans')\n",
    "plt.xlabel('Période (mois)')\n",
    "plt.ylabel('Score_ARI')\n",
    "plt.ylim((0,1))\n",
    "plt.show()    "
   ]
  },
  {
   "attachments": {},
   "cell_type": "markdown",
   "metadata": {},
   "source": [
    "#### le score ARI passe à 0,89. On peut donc considérer que notre modèle de clustering est fiable pendant 3 mois , mais a partir de 3  mois  il faut changer le modèle.\n"
   ]
  },
  {
   "cell_type": "code",
   "execution_count": null,
   "metadata": {},
   "outputs": [],
   "source": []
  }
 ],
 "metadata": {
  "kernelspec": {
   "display_name": "Python 3.9.15 ('data_bati')",
   "language": "python",
   "name": "python3"
  },
  "language_info": {
   "codemirror_mode": {
    "name": "ipython",
    "version": 3
   },
   "file_extension": ".py",
   "mimetype": "text/x-python",
   "name": "python",
   "nbconvert_exporter": "python",
   "pygments_lexer": "ipython3",
   "version": "3.8.5"
  },
  "orig_nbformat": 4,
  "vscode": {
   "interpreter": {
    "hash": "6653c63c30dd31191d1c1152044ede0d621e6bb1a6ed2a852d58434a91847f90"
   }
  }
 },
 "nbformat": 4,
 "nbformat_minor": 2
}
